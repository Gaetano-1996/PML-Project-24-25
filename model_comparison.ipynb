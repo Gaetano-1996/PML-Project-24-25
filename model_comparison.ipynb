{
 "cells": [
  {
   "cell_type": "code",
   "id": "6136f94c-7555-4fae-b68c-b42d28497dab",
   "metadata": {},
   "source": [
    "# importing dependencies \n",
    "from utils import *\n",
    "from ddpms import *"
   ],
   "outputs": [],
   "execution_count": null
  },
  {
   "cell_type": "code",
   "id": "f0c1f356-b15d-40b6-9e76-9ade27ff76e3",
   "metadata": {},
   "source": [
    "# defining directory and model_disct_state names\n",
    "models_dicts = [\"model_classic.pth\", \"model_lds_simple.pth\", \"model_lds_sobol.pth\"]\n",
    "gen_paths = [\"./gen_classic\", \"./gen_lsd_simple\",\"./gen_lsd_sobol\"]\n",
    "eval_path = \"./eval_img\""
   ],
   "outputs": [],
   "execution_count": null
  },
  {
   "cell_type": "code",
   "id": "2b3ae64f-57a8-446f-8fe6-1ac1b305884f",
   "metadata": {},
   "source": [
    "# Defining model parameter\n",
    "T = 1000\n",
    "learning_rate = 1e-3\n",
    "epochs = 100\n",
    "batch_size = 256\n",
    "device = torch.device(\"cuda:0\" if torch.cuda.is_available() else \"cpu\")\n",
    "mnist_unet = ScoreNet((lambda t: torch.ones(1).to(device)))"
   ],
   "outputs": [],
   "execution_count": null
  },
  {
   "cell_type": "code",
   "id": "d475cd6e-6f6f-474c-b310-eb5c49fff91a",
   "metadata": {},
   "source": [
    "# Define dataloader for MNIST test set\n",
    "dataloader_gen = torch.utils.data.DataLoader(\n",
    "    datasets.MNIST(eval_path,\n",
    "                   download=True,\n",
    "                   train=False, # selecting test data\n",
    "                   transform=transforms.ToTensor()),\n",
    "    batch_size=batch_size,\n",
    "    shuffle=True)"
   ],
   "outputs": [],
   "execution_count": null
  },
  {
   "cell_type": "code",
   "id": "7dc4bd9e-0941-4004-9d62-7b6b009a18a8",
   "metadata": {},
   "source": [
    "FIDs = []\n",
    "\n",
    "# Comparison loop\n",
    "for state_dict,folder in zip(models_dicts, gen_paths):\n",
    "    # Loading the model \n",
    "    if state_dict == \"model_lds_simple.pth\":\n",
    "        model = DDPM_low_discrepancy(mnist_unet, T=T, sampler = \"simple\").to(device)\n",
    "        model.load_state_dict(torch.load(state_dict))\n",
    "    if state_dict == \"model_lds_sobol.pth\":\n",
    "        model = DDPM_low_discrepancy(mnist_unet, T=T, sampler = \"sobol\").to(device)\n",
    "        model.load_state_dict(torch.load(state_dict)) \n",
    "    else: \n",
    "        model = DDPM_classic(mnist_unet, T=T).to(device)\n",
    "        model.load_state_dict(torch.load(state_dict))\n",
    "\n",
    "    # Sample generation \n",
    "    generate_save_samples(model,\n",
    "                          dataloader_gen,\n",
    "                          root_dir = folder)\n",
    "    # Fid computation  \n",
    "    print(f\"Evaluating {state_dict.split('.')[0]}\")\n",
    "    FID = compute_fid(generated_images_dir = folder,\n",
    "                      evaluation_images_dir = eval_path,\n",
    "                      device = \"cuda\")\n",
    "    FIDs.append(FID)"
   ],
   "outputs": [],
   "execution_count": null
  }
 ],
 "metadata": {
  "kernelspec": {
   "display_name": "Python 3 (ipykernel)",
   "language": "python",
   "name": "python3"
  },
  "language_info": {
   "codemirror_mode": {
    "name": "ipython",
    "version": 3
   },
   "file_extension": ".py",
   "mimetype": "text/x-python",
   "name": "python",
   "nbconvert_exporter": "python",
   "pygments_lexer": "ipython3",
   "version": "3.11.9"
  }
 },
 "nbformat": 4,
 "nbformat_minor": 5
}
